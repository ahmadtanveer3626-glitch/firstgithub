{
 "cells": [
  {
   "cell_type": "markdown",
   "id": "7f0c684d-8371-4bc4-8730-bdd8ecb2a6a9",
   "metadata": {},
   "source": [
    "# Python ka Chilla\n",
    "## How to use jupyter notebook\n",
    "## Basics of Python\n",
    "### **01- My First Program**"
   ]
  },
  {
   "cell_type": "code",
   "execution_count": 1,
   "id": "7614ae9c-bc39-4e12-8407-770f8339edd1",
   "metadata": {},
   "outputs": [
    {
     "name": "stdout",
     "output_type": "stream",
     "text": [
      "Hello World\n",
      "My name is ahmad tanveer\n",
      "I am learning python\n"
     ]
    }
   ],
   "source": [
    "# My_first_program\n",
    "print(\"Hello World\")\n",
    "print(\"My name is ahmad tanveer\")\n",
    "print(\"I am learning python\")"
   ]
  },
  {
   "cell_type": "markdown",
   "id": "892ff7a2-fba7-46e4-8b44-e349996409be",
   "metadata": {},
   "source": [
    "### **02- Operators**"
   ]
  },
  {
   "cell_type": "code",
   "execution_count": 2,
   "id": "48a0ad06-d849-4a2e-852f-05c84c9527f8",
   "metadata": {},
   "outputs": [
    {
     "name": "stdout",
     "output_type": "stream",
     "text": [
      "5\n",
      "4\n",
      "16\n",
      "4.0\n",
      "4\n",
      "1\n"
     ]
    }
   ],
   "source": [
    "print(3+2)\n",
    "print(5-1)\n",
    "print(4*4)\n",
    "print(8/2)\n",
    "print(8//2)\n",
    "print(9%4)"
   ]
  },
  {
   "cell_type": "markdown",
   "id": "2dd7f0b0-faf1-4a9b-8bd1-73cb4c790150",
   "metadata": {},
   "source": [
    "*PEMDAS\n",
    "Paranthesis Exponents Multiply Divide Addition Substraction\n",
    "left to right sequence for M D & A S*"
   ]
  },
  {
   "cell_type": "markdown",
   "id": "fadd1e2f-5b05-44a8-b8c3-9b8dabd18ad4",
   "metadata": {},
   "source": [
    "### **03- Strings**"
   ]
  },
  {
   "cell_type": "code",
   "execution_count": 3,
   "id": "dc0a6e54-e6ef-40f1-ba9d-bca2215b08c3",
   "metadata": {},
   "outputs": [
    {
     "name": "stdout",
     "output_type": "stream",
     "text": [
      "Hello World\n",
      "Test for single quote\n",
      "test foe double quote\n",
      "Test for triple quote\n"
     ]
    }
   ],
   "source": [
    "print(\"Hello World\")\n",
    "print('Test for single quote')\n",
    "print(\"test foe double quote\")\n",
    "print('''Test for triple quote''')"
   ]
  },
  {
   "cell_type": "markdown",
   "id": "5cf4926f-0f36-422a-85c7-1c88b592f533",
   "metadata": {},
   "source": [
    "### **04- Comments**\n",
    "The shortcut key to comment is ctrl + /"
   ]
  },
  {
   "cell_type": "code",
   "execution_count": 4,
   "id": "011c9e07-81ca-443d-a256-3ab316a8d4be",
   "metadata": {},
   "outputs": [],
   "source": [
    "# print(\"My name is Ahmad\")\n",
    "# print(\"I am learning python\")\n",
    "# print(\"Hello\")"
   ]
  },
  {
   "cell_type": "markdown",
   "id": "21298857-d5ca-41e0-8bc5-e6ab78a260d9",
   "metadata": {},
   "source": [
    "### **05- Variables**\n",
    "**Rules to assign a variable**\n",
    "1- The variables should contain letters numbers or undrscores\n",
    "2- Do not start with numbers \n",
    "3- Spaces are not allowed\n",
    "4- Do not use keywords used in function (break, mean , media, test etc.)\n",
    "5- Short and descriptive\n",
    "6- Case senstivity (Lowercase letters, Uppercase letters)"
   ]
  },
  {
   "cell_type": "code",
   "execution_count": 5,
   "id": "069f0abc-3761-43a2-8494-8a6556408010",
   "metadata": {},
   "outputs": [
    {
     "name": "stdout",
     "output_type": "stream",
     "text": [
      "14\n",
      "<class 'int'>\n"
     ]
    }
   ],
   "source": [
    "fruit_basket = \"apples\"\n",
    "fruit_basket = 14\n",
    "print(fruit_basket)\n",
    "print(type(fruit_basket))"
   ]
  },
  {
   "cell_type": "markdown",
   "id": "c7c08a8b-5f0a-4c76-9b4a-50e010f21492",
   "metadata": {},
   "source": [
    "### **06- Input Variables**"
   ]
  },
  {
   "cell_type": "code",
   "execution_count": 6,
   "id": "c5591a66-66ef-4ca3-b475-7bdd7539dbfd",
   "metadata": {
    "scrolled": true
   },
   "outputs": [
    {
     "name": "stdin",
     "output_type": "stream",
     "text": [
      "What is your name?  Ahmad\n",
      "How old are you?  25\n"
     ]
    },
    {
     "name": "stdout",
     "output_type": "stream",
     "text": [
      "Hello! Ahmad You are 25 years old\n"
     ]
    }
   ],
   "source": [
    "name = input(\"What is your name? \")\n",
    "age = input(\"How old are you? \")\n",
    "greetings = \"Hello!\"\n",
    "print(greetings, name, \"You are 25 years old\")"
   ]
  }
 ],
 "metadata": {
  "kernelspec": {
   "display_name": "Python [conda env:base] *",
   "language": "python",
   "name": "conda-base-py"
  },
  "language_info": {
   "codemirror_mode": {
    "name": "ipython",
    "version": 3
   },
   "file_extension": ".py",
   "mimetype": "text/x-python",
   "name": "python",
   "nbconvert_exporter": "python",
   "pygments_lexer": "ipython3",
   "version": "3.13.5"
  }
 },
 "nbformat": 4,
 "nbformat_minor": 5
}
