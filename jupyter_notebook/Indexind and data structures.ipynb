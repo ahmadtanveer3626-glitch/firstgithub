{
 "cells": [
  {
   "cell_type": "markdown",
   "id": "88c606f4-1448-4b8e-8aa9-2974f1cb9cdc",
   "metadata": {},
   "source": [
    "# Indexing"
   ]
  },
  {
   "cell_type": "code",
   "execution_count": 1,
   "id": "edd70827-09e3-4501-b19c-a54a2f2e7f27",
   "metadata": {},
   "outputs": [
    {
     "data": {
      "text/plain": [
       "'Ahmad Tanveer'"
      ]
     },
     "execution_count": 1,
     "metadata": {},
     "output_type": "execute_result"
    }
   ],
   "source": [
    "a = \"Ahmad Tanveer\"\n",
    "a"
   ]
  },
  {
   "cell_type": "code",
   "execution_count": 2,
   "id": "120b0694-9344-4e0d-a724-4f5bee97eac3",
   "metadata": {},
   "outputs": [
    {
     "data": {
      "text/plain": [
       "'Ahmad Tanveer'"
      ]
     },
     "execution_count": 2,
     "metadata": {},
     "output_type": "execute_result"
    }
   ],
   "source": [
    "a"
   ]
  },
  {
   "cell_type": "code",
   "execution_count": 3,
   "id": "4089bbfe-d68b-4401-b1a2-b01a94940a60",
   "metadata": {},
   "outputs": [
    {
     "data": {
      "text/plain": [
       "13"
      ]
     },
     "execution_count": 3,
     "metadata": {},
     "output_type": "execute_result"
    }
   ],
   "source": [
    "len(a)"
   ]
  },
  {
   "cell_type": "code",
   "execution_count": 4,
   "id": "b4144f7d-a7c9-43f4-b0d6-4f681bdf451e",
   "metadata": {
    "scrolled": true
   },
   "outputs": [
    {
     "data": {
      "text/plain": [
       "'A'"
      ]
     },
     "execution_count": 4,
     "metadata": {},
     "output_type": "execute_result"
    }
   ],
   "source": [
    "a[0]"
   ]
  },
  {
   "cell_type": "code",
   "execution_count": 5,
   "id": "bd4d5f19-9408-42d4-856b-e979e93d22f3",
   "metadata": {},
   "outputs": [
    {
     "data": {
      "text/plain": [
       "'d'"
      ]
     },
     "execution_count": 5,
     "metadata": {},
     "output_type": "execute_result"
    }
   ],
   "source": [
    "a[4]"
   ]
  },
  {
   "cell_type": "code",
   "execution_count": 6,
   "id": "36530d4d-ca6d-4b59-852b-b593e5da4441",
   "metadata": {},
   "outputs": [
    {
     "data": {
      "text/plain": [
       "'r'"
      ]
     },
     "execution_count": 6,
     "metadata": {},
     "output_type": "execute_result"
    }
   ],
   "source": [
    "a[12]"
   ]
  },
  {
   "cell_type": "code",
   "execution_count": 7,
   "id": "6433958b-a424-4a7f-845e-d8783cda48ee",
   "metadata": {},
   "outputs": [
    {
     "data": {
      "text/plain": [
       "'Ahmad'"
      ]
     },
     "execution_count": 7,
     "metadata": {},
     "output_type": "execute_result"
    }
   ],
   "source": [
    "a[0:5]"
   ]
  },
  {
   "cell_type": "code",
   "execution_count": 8,
   "id": "d69ed894-34dc-46be-8d64-6726fac22bc0",
   "metadata": {},
   "outputs": [
    {
     "data": {
      "text/plain": [
       "'Ahmad Tanveer'"
      ]
     },
     "execution_count": 8,
     "metadata": {},
     "output_type": "execute_result"
    }
   ],
   "source": [
    "a[0:13]"
   ]
  },
  {
   "cell_type": "code",
   "execution_count": 9,
   "id": "22d37f4f-fda5-4b3e-8b76-f3c2d5056385",
   "metadata": {},
   "outputs": [
    {
     "data": {
      "text/plain": [
       "'Ahmad'"
      ]
     },
     "execution_count": 9,
     "metadata": {},
     "output_type": "execute_result"
    }
   ],
   "source": [
    "a[-13:5]"
   ]
  },
  {
   "cell_type": "markdown",
   "id": "8601cd90-7464-4471-b9b6-f95dff42f3ac",
   "metadata": {},
   "source": [
    "# String Methods"
   ]
  },
  {
   "cell_type": "code",
   "execution_count": 10,
   "id": "e207b5a7-9522-48d2-8ffb-86251c78f7e6",
   "metadata": {},
   "outputs": [
    {
     "data": {
      "text/plain": [
       "'biryani'"
      ]
     },
     "execution_count": 10,
     "metadata": {},
     "output_type": "execute_result"
    }
   ],
   "source": [
    "food = \"biryani\"\n",
    "food"
   ]
  },
  {
   "cell_type": "code",
   "execution_count": 11,
   "id": "6d04f2bf-2bb0-4a40-83b8-4633ff5ada66",
   "metadata": {},
   "outputs": [
    {
     "data": {
      "text/plain": [
       "'biryani'"
      ]
     },
     "execution_count": 11,
     "metadata": {},
     "output_type": "execute_result"
    }
   ],
   "source": [
    "food"
   ]
  },
  {
   "cell_type": "code",
   "execution_count": 12,
   "id": "decd35e0-85ac-429c-a2e0-bc76fce32c98",
   "metadata": {},
   "outputs": [
    {
     "data": {
      "text/plain": [
       "'Biryani'"
      ]
     },
     "execution_count": 12,
     "metadata": {},
     "output_type": "execute_result"
    }
   ],
   "source": [
    "food.capitalize()"
   ]
  },
  {
   "cell_type": "code",
   "execution_count": 13,
   "id": "64901bb2-b618-44aa-a858-6627a9d83c10",
   "metadata": {},
   "outputs": [
    {
     "data": {
      "text/plain": [
       "'BIRYANI'"
      ]
     },
     "execution_count": 13,
     "metadata": {},
     "output_type": "execute_result"
    }
   ],
   "source": [
    "food.upper()"
   ]
  },
  {
   "cell_type": "code",
   "execution_count": 14,
   "id": "9e8daeb4-6ca0-4707-a52b-8a306642705a",
   "metadata": {},
   "outputs": [
    {
     "data": {
      "text/plain": [
       "'biryani'"
      ]
     },
     "execution_count": 14,
     "metadata": {},
     "output_type": "execute_result"
    }
   ],
   "source": [
    "food.lower()"
   ]
  },
  {
   "cell_type": "code",
   "execution_count": 15,
   "id": "47fc3737-67fc-477f-809f-f9acd87b77bb",
   "metadata": {},
   "outputs": [
    {
     "data": {
      "text/plain": [
       "'shiryani'"
      ]
     },
     "execution_count": 15,
     "metadata": {},
     "output_type": "execute_result"
    }
   ],
   "source": [
    "food.replace(\"b\",\"sh\")"
   ]
  },
  {
   "cell_type": "code",
   "execution_count": 16,
   "id": "d1b0a1cd-fc1b-4771-9c9b-f188f4342ec2",
   "metadata": {},
   "outputs": [
    {
     "data": {
      "text/plain": [
       "2"
      ]
     },
     "execution_count": 16,
     "metadata": {},
     "output_type": "execute_result"
    }
   ],
   "source": [
    "food.count(\"i\")"
   ]
  },
  {
   "cell_type": "markdown",
   "id": "2d7b6620-f822-4a9b-8a59-2e78666ea26c",
   "metadata": {},
   "source": [
    "### How to split a string"
   ]
  },
  {
   "cell_type": "code",
   "execution_count": 17,
   "id": "db19c209-fe29-4002-a530-d4c41f6eb842",
   "metadata": {},
   "outputs": [
    {
     "data": {
      "text/plain": [
       "'I love biryani, rice, pulao, chicken'"
      ]
     },
     "execution_count": 17,
     "metadata": {},
     "output_type": "execute_result"
    }
   ],
   "source": [
    "food = \"I love biryani, rice, pulao, chicken\"\n",
    "food"
   ]
  },
  {
   "cell_type": "code",
   "execution_count": 18,
   "id": "e2951529-eb38-4580-a897-c9a639abbb53",
   "metadata": {},
   "outputs": [
    {
     "data": {
      "text/plain": [
       "['I love biryani', ' rice', ' pulao', ' chicken']"
      ]
     },
     "execution_count": 18,
     "metadata": {},
     "output_type": "execute_result"
    }
   ],
   "source": [
    "food.split(\",\")"
   ]
  },
  {
   "cell_type": "code",
   "execution_count": null,
   "id": "5ea04124-e408-406c-8adb-88a02d3a6e93",
   "metadata": {},
   "outputs": [],
   "source": []
  },
  {
   "cell_type": "markdown",
   "id": "fe8d4b91-db08-4ae1-9e2b-528fec065473",
   "metadata": {},
   "source": [
    "# Basic data structue in python"
   ]
  },
  {
   "cell_type": "markdown",
   "id": "04b437b2-9ee7-4737-984d-7757bbb7ac41",
   "metadata": {},
   "source": [
    "#### 1- Tuple\n",
    "\n",
    "#### 2- List\n",
    "\n",
    "#### 3- Dictionaries\n",
    "\n",
    "#### 4- Set"
   ]
  },
  {
   "cell_type": "markdown",
   "id": "895ffbb2-98a3-46ed-86a3-4fbce0ed8a85",
   "metadata": {},
   "source": [
    "## 1- Tuple\n",
    "- Ordered collection of elements\n",
    "- Enclosed in () roubd braces / paranthesis\n",
    "- Different kind of elements can be stord\n",
    "- Once elements are stored you cannot change them (unmutable)"
   ]
  },
  {
   "cell_type": "code",
   "execution_count": 19,
   "id": "a32cf3a0-6ab5-4759-aba4-93861c89402f",
   "metadata": {},
   "outputs": [
    {
     "data": {
      "text/plain": [
       "(1, 'string', True, 2.5)"
      ]
     },
     "execution_count": 19,
     "metadata": {},
     "output_type": "execute_result"
    }
   ],
   "source": [
    "tup1 = (1, \"string\", True, 2.5)\n",
    "tup1"
   ]
  },
  {
   "cell_type": "code",
   "execution_count": 20,
   "id": "d11746f6-3c18-4254-99f8-f0112efe8403",
   "metadata": {},
   "outputs": [
    {
     "data": {
      "text/plain": [
       "tuple"
      ]
     },
     "execution_count": 20,
     "metadata": {},
     "output_type": "execute_result"
    }
   ],
   "source": [
    "#type of a tuple\n",
    "tuple"
   ]
  },
  {
   "cell_type": "markdown",
   "id": "5d9a9654-9b64-466d-aea5-d1ad696075a8",
   "metadata": {},
   "source": [
    "### - Indexing in tuple"
   ]
  },
  {
   "cell_type": "code",
   "execution_count": 21,
   "id": "947e0c94-0e45-456c-822b-5addf2411721",
   "metadata": {},
   "outputs": [
    {
     "data": {
      "text/plain": [
       "1"
      ]
     },
     "execution_count": 21,
     "metadata": {},
     "output_type": "execute_result"
    }
   ],
   "source": [
    "tup1[0]"
   ]
  },
  {
   "cell_type": "code",
   "execution_count": 22,
   "id": "365e600a-1622-471b-987b-78992ea960f3",
   "metadata": {},
   "outputs": [
    {
     "data": {
      "text/plain": [
       "2.5"
      ]
     },
     "execution_count": 22,
     "metadata": {},
     "output_type": "execute_result"
    }
   ],
   "source": [
    "tup1[3]"
   ]
  },
  {
   "cell_type": "code",
   "execution_count": 23,
   "id": "40bf45aa-9b72-4192-956a-092f0cf23219",
   "metadata": {},
   "outputs": [
    {
     "data": {
      "text/plain": [
       "(1, 'string', True, 2.5)"
      ]
     },
     "execution_count": 23,
     "metadata": {},
     "output_type": "execute_result"
    }
   ],
   "source": [
    "tup1[0:4]"
   ]
  },
  {
   "cell_type": "code",
   "execution_count": 24,
   "id": "4d5a9dc3-db1f-4ee6-9bd2-956407fc5b92",
   "metadata": {},
   "outputs": [
    {
     "data": {
      "text/plain": [
       "4"
      ]
     },
     "execution_count": 24,
     "metadata": {},
     "output_type": "execute_result"
    }
   ],
   "source": [
    "len(tup1)"
   ]
  },
  {
   "cell_type": "code",
   "execution_count": 25,
   "id": "f943a370-0149-4bda-bacc-fc77c0de570c",
   "metadata": {},
   "outputs": [
    {
     "data": {
      "text/plain": [
       "(2, 'python', 4.5, False)"
      ]
     },
     "execution_count": 25,
     "metadata": {},
     "output_type": "execute_result"
    }
   ],
   "source": [
    "tup2 = (2, \"python\", 4.5, False)\n",
    "tup2"
   ]
  },
  {
   "cell_type": "code",
   "execution_count": 26,
   "id": "cc21a631-32b1-4127-ba54-01e6b9d7f9d5",
   "metadata": {},
   "outputs": [
    {
     "data": {
      "text/plain": [
       "(1, 'string', True, 2.5, 2, 'python', 4.5, False)"
      ]
     },
     "execution_count": 26,
     "metadata": {},
     "output_type": "execute_result"
    }
   ],
   "source": [
    "tup1 + tup2"
   ]
  },
  {
   "cell_type": "code",
   "execution_count": 27,
   "id": "c6a9b439-1632-45e3-83ed-5efaeda440fe",
   "metadata": {},
   "outputs": [
    {
     "data": {
      "text/plain": [
       "(1, 'string', True, 2.5, 2, 'python', 4.5, False, 2, 'python', 4.5, False)"
      ]
     },
     "execution_count": 27,
     "metadata": {},
     "output_type": "execute_result"
    }
   ],
   "source": [
    "tup1 +tup2*2"
   ]
  },
  {
   "cell_type": "code",
   "execution_count": 28,
   "id": "7ca87d6b-c4c4-45ba-8b2b-2b0a7ca021bf",
   "metadata": {},
   "outputs": [
    {
     "data": {
      "text/plain": [
       "(20, 50, 25, 80, 60)"
      ]
     },
     "execution_count": 28,
     "metadata": {},
     "output_type": "execute_result"
    }
   ],
   "source": [
    "tup3 = (20, 50, 25, 80, 60)\n",
    "tup3"
   ]
  },
  {
   "cell_type": "code",
   "execution_count": 29,
   "id": "0062a37c-22f8-4e37-b2f2-c15446668e24",
   "metadata": {},
   "outputs": [
    {
     "data": {
      "text/plain": [
       "80"
      ]
     },
     "execution_count": 29,
     "metadata": {},
     "output_type": "execute_result"
    }
   ],
   "source": [
    "max(tup3)"
   ]
  },
  {
   "cell_type": "code",
   "execution_count": 30,
   "id": "7793e296-8134-490b-9f97-8b5298714b99",
   "metadata": {},
   "outputs": [
    {
     "data": {
      "text/plain": [
       "20"
      ]
     },
     "execution_count": 30,
     "metadata": {},
     "output_type": "execute_result"
    }
   ],
   "source": [
    "min(tup3)"
   ]
  },
  {
   "cell_type": "code",
   "execution_count": 31,
   "id": "a51534d1-3fbb-433e-91ea-070bfac1edc9",
   "metadata": {},
   "outputs": [
    {
     "data": {
      "text/plain": [
       "(20, 50, 25, 80, 60, 20, 50, 25, 80, 60)"
      ]
     },
     "execution_count": 31,
     "metadata": {},
     "output_type": "execute_result"
    }
   ],
   "source": [
    "tup3*2"
   ]
  },
  {
   "cell_type": "markdown",
   "id": "8704d68a-df9c-4fd5-8935-c94df035413a",
   "metadata": {},
   "source": [
    "## 2- List\n",
    "- ordered collection of elements\n",
    "- enclosed in square brackets\n",
    "- Mutable, you can change the values"
   ]
  },
  {
   "cell_type": "code",
   "execution_count": 32,
   "id": "11c98dc2-154a-42ae-a413-6ffca438e216",
   "metadata": {},
   "outputs": [
    {
     "data": {
      "text/plain": [
       "[2, True, 'ahmad']"
      ]
     },
     "execution_count": 32,
     "metadata": {},
     "output_type": "execute_result"
    }
   ],
   "source": [
    "list1 = [2, True, \"ahmad\"]\n",
    "list1"
   ]
  },
  {
   "cell_type": "code",
   "execution_count": 33,
   "id": "4de31ddc-1ade-4ed2-80d8-36c3ba99653f",
   "metadata": {},
   "outputs": [
    {
     "data": {
      "text/plain": [
       "list"
      ]
     },
     "execution_count": 33,
     "metadata": {},
     "output_type": "execute_result"
    }
   ],
   "source": [
    "type(list1)"
   ]
  },
  {
   "cell_type": "code",
   "execution_count": 34,
   "id": "dfef51d0-0d96-4a22-b053-aa00cf3207ff",
   "metadata": {},
   "outputs": [
    {
     "data": {
      "text/plain": [
       "3"
      ]
     },
     "execution_count": 34,
     "metadata": {},
     "output_type": "execute_result"
    }
   ],
   "source": [
    "len(list1)"
   ]
  },
  {
   "cell_type": "code",
   "execution_count": 35,
   "id": "1a50a5e0-9506-4593-8ee5-44ccca730b2a",
   "metadata": {},
   "outputs": [
    {
     "data": {
      "text/plain": [
       "'ahmad'"
      ]
     },
     "execution_count": 35,
     "metadata": {},
     "output_type": "execute_result"
    }
   ],
   "source": [
    "list1[2]"
   ]
  },
  {
   "cell_type": "code",
   "execution_count": 36,
   "id": "4ce13450-8308-4224-bd7c-c2cf84714f4f",
   "metadata": {},
   "outputs": [
    {
     "data": {
      "text/plain": [
       "[3, 7, 'python', 1.5, False]"
      ]
     },
     "execution_count": 36,
     "metadata": {},
     "output_type": "execute_result"
    }
   ],
   "source": [
    "list2 = [3, 7, \"python\", 1.5, False]\n",
    "list2"
   ]
  },
  {
   "cell_type": "code",
   "execution_count": 37,
   "id": "b30110db-327e-4106-8d63-7ffe026b545a",
   "metadata": {},
   "outputs": [
    {
     "data": {
      "text/plain": [
       "[2, True, 'ahmad', 3, 7, 'python', 1.5, False]"
      ]
     },
     "execution_count": 37,
     "metadata": {},
     "output_type": "execute_result"
    }
   ],
   "source": [
    "list1 + list2"
   ]
  },
  {
   "cell_type": "code",
   "execution_count": 38,
   "id": "677bd091-8712-4e4e-896b-9e692f4388dc",
   "metadata": {},
   "outputs": [
    {
     "data": {
      "text/plain": [
       "[3, 7, 'python', 1.5, False, 3, 7, 'python', 1.5, False]"
      ]
     },
     "execution_count": 38,
     "metadata": {},
     "output_type": "execute_result"
    }
   ],
   "source": [
    "list2 *2"
   ]
  },
  {
   "cell_type": "code",
   "execution_count": 39,
   "id": "400bcb00-6b82-4c9d-b3ac-f3b306dd3606",
   "metadata": {},
   "outputs": [
    {
     "data": {
      "text/plain": [
       "[2, True, 'ahmad']"
      ]
     },
     "execution_count": 39,
     "metadata": {},
     "output_type": "execute_result"
    }
   ],
   "source": [
    "list1"
   ]
  },
  {
   "cell_type": "code",
   "execution_count": 40,
   "id": "9472b1ad-6717-4c13-aa4b-35f2f9b4be44",
   "metadata": {},
   "outputs": [
    {
     "data": {
      "text/plain": [
       "['ahmad', True, 2]"
      ]
     },
     "execution_count": 40,
     "metadata": {},
     "output_type": "execute_result"
    }
   ],
   "source": [
    "list1.reverse()\n",
    "list1"
   ]
  },
  {
   "cell_type": "code",
   "execution_count": 41,
   "id": "54255f9b-dce3-4874-87ac-904663253ecc",
   "metadata": {},
   "outputs": [
    {
     "data": {
      "text/plain": [
       "['ahmad', True, 2, 'Battle Bloxers']"
      ]
     },
     "execution_count": 41,
     "metadata": {},
     "output_type": "execute_result"
    }
   ],
   "source": [
    "list1.append(\"Battle Bloxers\")\n",
    "list1"
   ]
  },
  {
   "cell_type": "code",
   "execution_count": null,
   "id": "ff805674-558d-489e-93d5-a0ec2820ae03",
   "metadata": {},
   "outputs": [],
   "source": []
  },
  {
   "cell_type": "markdown",
   "id": "9bd6a6f1-a33a-4846-88c4-f59a1bc3140d",
   "metadata": {},
   "source": [
    "## 3- Dictionaries\n",
    "- An onordered collection of elements\n",
    "- Key and value\n",
    "- Curly braces or brackets\n",
    "- Muteable/change the vales"
   ]
  },
  {
   "cell_type": "code",
   "execution_count": 42,
   "id": "74e20230-09fe-4f1d-b5d9-a0a28e237120",
   "metadata": {},
   "outputs": [
    {
     "data": {
      "text/plain": [
       "{'apple': 30, 'banana': 50, 'grapes': 80, 'kiwi': 20, 'peach': 55}"
      ]
     },
     "execution_count": 42,
     "metadata": {},
     "output_type": "execute_result"
    }
   ],
   "source": [
    "# Fruits and their prics\n",
    "fruits1 = {\"apple\":30, \"banana\":50, \"grapes\":80, \"kiwi\":20, \"peach\":55}\n",
    "fruits1"
   ]
  },
  {
   "cell_type": "code",
   "execution_count": 43,
   "id": "f9783027-a5a2-4e44-b7d8-4c4ea34bbf05",
   "metadata": {},
   "outputs": [
    {
     "data": {
      "text/plain": [
       "dict"
      ]
     },
     "execution_count": 43,
     "metadata": {},
     "output_type": "execute_result"
    }
   ],
   "source": [
    "type(fruits1)"
   ]
  },
  {
   "cell_type": "code",
   "execution_count": 44,
   "id": "152bb6c5-4db3-40ed-a6d3-e02ef87ce482",
   "metadata": {},
   "outputs": [
    {
     "data": {
      "text/plain": [
       "dict_keys(['apple', 'banana', 'grapes', 'kiwi', 'peach'])"
      ]
     },
     "execution_count": 44,
     "metadata": {},
     "output_type": "execute_result"
    }
   ],
   "source": [
    "# Extract Data\n",
    "keys1 = fruits1.keys()\n",
    "keys1"
   ]
  },
  {
   "cell_type": "code",
   "execution_count": 45,
   "id": "5f196fd2-879f-4479-8037-53c6a9089dda",
   "metadata": {},
   "outputs": [
    {
     "data": {
      "text/plain": [
       "dict_values([30, 50, 80, 20, 55])"
      ]
     },
     "execution_count": 45,
     "metadata": {},
     "output_type": "execute_result"
    }
   ],
   "source": [
    "values1 = fruits1.values()\n",
    "values1"
   ]
  },
  {
   "cell_type": "code",
   "execution_count": 46,
   "id": "50d54f48-8fc1-4190-be8f-ee08bf9f93af",
   "metadata": {},
   "outputs": [
    {
     "data": {
      "text/plain": [
       "{'apple': 30, 'banana': 50, 'grapes': 80, 'kiwi': 20, 'peach': 55, 'guava': 10}"
      ]
     },
     "execution_count": 46,
     "metadata": {},
     "output_type": "execute_result"
    }
   ],
   "source": [
    "# adding new element\n",
    "fruits1[\"guava\"]=10\n",
    "fruits1"
   ]
  },
  {
   "cell_type": "code",
   "execution_count": 47,
   "id": "9cebc768-d984-4458-a630-5984bed0f975",
   "metadata": {},
   "outputs": [
    {
     "data": {
      "text/plain": [
       "{'apple': 30, 'banana': 50, 'grapes': 80, 'kiwi': 20, 'peach': 55, 'guava': 15}"
      ]
     },
     "execution_count": 47,
     "metadata": {},
     "output_type": "execute_result"
    }
   ],
   "source": [
    "fruits1[\"guava\"]=15\n",
    "fruits1"
   ]
  },
  {
   "cell_type": "code",
   "execution_count": 48,
   "id": "08fe7e09-9783-4e45-b469-3c37dec3ce4a",
   "metadata": {},
   "outputs": [
    {
     "data": {
      "text/plain": [
       "{'dates': 200, 'almonds': 300, 'pista': 250, 'peanuts': 100}"
      ]
     },
     "execution_count": 48,
     "metadata": {},
     "output_type": "execute_result"
    }
   ],
   "source": [
    "dry_fruits = {\"dates\":200, \"almonds\":300, \"pista\":250, \"peanuts\":100}\n",
    "dry_fruits"
   ]
  },
  {
   "cell_type": "code",
   "execution_count": 49,
   "id": "5d3d1fcf-72b9-4b84-a38e-931c08e0e638",
   "metadata": {},
   "outputs": [
    {
     "data": {
      "text/plain": [
       "{'apple': 30,\n",
       " 'banana': 50,\n",
       " 'grapes': 80,\n",
       " 'kiwi': 20,\n",
       " 'peach': 55,\n",
       " 'guava': 15,\n",
       " 'dates': 200,\n",
       " 'almonds': 300,\n",
       " 'pista': 250,\n",
       " 'peanuts': 100}"
      ]
     },
     "execution_count": 49,
     "metadata": {},
     "output_type": "execute_result"
    }
   ],
   "source": [
    "# concatinate\n",
    "fruits1.update(dry_fruits)\n",
    "fruits1"
   ]
  },
  {
   "cell_type": "markdown",
   "id": "fe150c26-99ee-4bd6-9275-f05ada398190",
   "metadata": {},
   "source": [
    "## 4- Set\n",
    "- unordered and unindexed\n",
    "- curly braces are used\n",
    "- no duplicates are allowed"
   ]
  },
  {
   "cell_type": "code",
   "execution_count": 50,
   "id": "74116e47-da28-49e7-b2d6-e23dc25ec9d0",
   "metadata": {},
   "outputs": [
    {
     "data": {
      "text/plain": [
       "{1, 2, 2.5, 3.4, 6, 'ahmad', 'python'}"
      ]
     },
     "execution_count": 50,
     "metadata": {},
     "output_type": "execute_result"
    }
   ],
   "source": [
    "s1 = {1, 2, 3.4, 6, 2.5, \"python\", \"ahmad\", True}\n",
    "s1"
   ]
  },
  {
   "cell_type": "code",
   "execution_count": 52,
   "id": "bbfb97a3-55d3-47c4-b9f7-373756c4a29d",
   "metadata": {},
   "outputs": [
    {
     "data": {
      "text/plain": [
       "{1, 2, 2.5, 3.4, 6, 'ahmad', 'ahmad1', 'python'}"
      ]
     },
     "execution_count": 52,
     "metadata": {},
     "output_type": "execute_result"
    }
   ],
   "source": [
    "s1.add(\"ahmad1\")\n",
    "s1"
   ]
  },
  {
   "cell_type": "code",
   "execution_count": 53,
   "id": "cad01df9-81a4-4c84-a8a2-80a0d68f91d0",
   "metadata": {},
   "outputs": [
    {
     "data": {
      "text/plain": [
       "{1, 2, 2.5, 3.4, 6, 'ahmad', 'python'}"
      ]
     },
     "execution_count": 53,
     "metadata": {},
     "output_type": "execute_result"
    }
   ],
   "source": [
    "s1.remove(\"ahmad1\")\n",
    "s1"
   ]
  }
 ],
 "metadata": {
  "kernelspec": {
   "display_name": "Python [conda env:base] *",
   "language": "python",
   "name": "conda-base-py"
  },
  "language_info": {
   "codemirror_mode": {
    "name": "ipython",
    "version": 3
   },
   "file_extension": ".py",
   "mimetype": "text/x-python",
   "name": "python",
   "nbconvert_exporter": "python",
   "pygments_lexer": "ipython3",
   "version": "3.13.5"
  }
 },
 "nbformat": 4,
 "nbformat_minor": 5
}
